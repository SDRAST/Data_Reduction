{
 "metadata": {
  "name": ""
 },
 "nbformat": 3,
 "nbformat_minor": 0,
 "worksheets": [
  {
   "cells": [
    {
     "cell_type": "heading",
     "level": 2,
     "metadata": {},
     "source": [
      "Esimates of Water Production"
     ]
    },
    {
     "cell_type": "markdown",
     "metadata": {},
     "source": [
      "In http://blogs.esa.int/rosetta/2014/06/23/first-detection-of-water-from-67pc-g/, Gulkis et al report that 67P/C-G had a water production rate of 0.5 x 10^25 molecules/s and 4 x 10^25 molecules/s. At the time of observation, June 6.55 2014 UT, the water ground-state transition had a line width of 0.76 +/-0.12 km/s. The spacecraft to comet distance was ~360,000 km and the heliocentric distance of the comet was 3.93 AU.  According to Crovisier et al (Planetary and Space Science, 2008) this gives it a figure of merit for molecule detection of"
     ]
    },
    {
     "cell_type": "code",
     "collapsed": false,
     "input": [
      "def FM(Q,D):\n",
      "    \"\"\"\n",
      "    Q - water production rate\n",
      "    D - distance in AU\n",
      "    \"\"\"\n",
      "    return Q/D/1e28\n",
      "print \"Figure of Merit =\", FM(2e25,3.9)"
     ],
     "language": "python",
     "metadata": {},
     "outputs": [
      {
       "output_type": "stream",
       "stream": "stdout",
       "text": [
        "Figure of Merit = 0.000512820512821\n"
       ]
      }
     ],
     "prompt_number": 1
    },
    {
     "cell_type": "markdown",
     "metadata": {},
     "source": [
      "However, production rate is a function of distance from the sun (Mumma et al., ESA SP-500: Asteroids, Comets, and Meteors: ACM 2002. pp. 753\u2013762, 2002)."
     ]
    }
   ],
   "metadata": {}
  }
 ]
}